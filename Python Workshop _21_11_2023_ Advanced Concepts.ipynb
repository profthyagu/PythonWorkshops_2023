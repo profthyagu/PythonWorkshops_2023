{
 "cells": [
  {
   "cell_type": "markdown",
   "id": "47affd14",
   "metadata": {},
   "source": [
    "# Advanced Python"
   ]
  },
  {
   "cell_type": "markdown",
   "id": "63ae33c2",
   "metadata": {},
   "source": [
    "# Control Structures"
   ]
  },
  {
   "cell_type": "markdown",
   "id": "bb248e24",
   "metadata": {},
   "source": [
    "### Control structures in Python are programming constructs that allow you to control the flow of execution in a program. They enable you to make decisions, repeat actions, and execute different code blocks based on certain conditions. The main control structures in Python include:"
   ]
  },
  {
   "cell_type": "markdown",
   "id": "3baa84c9",
   "metadata": {},
   "source": [
    "# 1. Conditional Control Statements "
   ]
  },
  {
   "cell_type": "markdown",
   "id": "2b8ea869",
   "metadata": {},
   "source": [
    "## 1.0 if statements "
   ]
  },
  {
   "cell_type": "code",
   "execution_count": null,
   "id": "3f05982d",
   "metadata": {},
   "outputs": [],
   "source": [
    "if condition:\n",
    "    # code to be executed if the condition is true\n",
    "elif another_condition:\n",
    "    # code to be executed if the another_condition is true\n",
    "else:\n",
    "    # code to be executed if none of the above conditions are true"
   ]
  },
  {
   "cell_type": "code",
   "execution_count": 4,
   "id": "5e1ae2b0",
   "metadata": {},
   "outputs": [
    {
     "name": "stdout",
     "output_type": "stream",
     "text": [
      "It's a pleasant day.\n"
     ]
    }
   ],
   "source": [
    "temperature = 25\n",
    "if temperature > 30:\n",
    "    print(\"It's hot outside!\")\n",
    "elif 20 <= temperature <= 30:\n",
    "    print(\"It's a pleasant day.\")\n",
    "else:\n",
    "    print(\"It's cold outside.\")"
   ]
  },
  {
   "cell_type": "markdown",
   "id": "504a4d97",
   "metadata": {},
   "source": [
    "# 2.Looping Control Statements "
   ]
  },
  {
   "cell_type": "markdown",
   "id": "b7c6c893",
   "metadata": {},
   "source": [
    "## Loops in Python are control flow structures that allow you to repeatedly execute a block of code. They are used to iterate over a sequence (such as a list, tuple, or string) or to repeat a certain set of statements until a specific condition is met. \n",
    "## Python supports two main types of loops: for loops and while loops."
   ]
  },
  {
   "cell_type": "markdown",
   "id": "a0a90e8b",
   "metadata": {},
   "source": [
    "## 2.1 for loops: The for loop is used to iterate over a sequence (e.g., a list, tuple, string, or range) and execute a block of code for each element in the sequence."
   ]
  },
  {
   "cell_type": "code",
   "execution_count": null,
   "id": "1c4187ce",
   "metadata": {},
   "outputs": [],
   "source": [
    "for variable in iterable:\n",
    "    # code to be executed for each iteration"
   ]
  },
  {
   "cell_type": "code",
   "execution_count": 5,
   "id": "6aff62e6",
   "metadata": {},
   "outputs": [
    {
     "name": "stdout",
     "output_type": "stream",
     "text": [
      "apple\n",
      "banana\n",
      "cherry\n",
      "0\n",
      "1\n",
      "2\n",
      "3\n",
      "4\n"
     ]
    }
   ],
   "source": [
    "# Example 1\n",
    "fruits = [\"apple\", \"banana\", \"cherry\"]\n",
    "for fruit in fruits:\n",
    "    print(fruit)\n",
    "\n",
    "# Example 2\n",
    "for i in range(5):\n",
    "    print(i)"
   ]
  },
  {
   "cell_type": "markdown",
   "id": "36b77e2c",
   "metadata": {},
   "source": [
    "## range function"
   ]
  },
  {
   "cell_type": "markdown",
   "id": "bf759e97",
   "metadata": {},
   "source": [
    "#### In Python, the range() function is often used to generate a sequence of numbers. It is commonly used with for loops to iterate over a specific range of values. The range() function can take one, two, or three arguments:\n",
    "##### 1. range(stop): Generates numbers from 0 up to (but not including) the specified stop value.\n",
    "##### 2. range(start, stop): Generates numbers from the start value up to (but not including) the stop value.\n",
    "#### 3. range(start, stop, step): Generates numbers from the start value up to (but not including) the stop value, with the specified step value.\n",
    "### Here are some examples:"
   ]
  },
  {
   "cell_type": "markdown",
   "id": "57f85386",
   "metadata": {},
   "source": [
    "### 1. Using range(stop):"
   ]
  },
  {
   "cell_type": "code",
   "execution_count": 6,
   "id": "d2fcb8a7",
   "metadata": {},
   "outputs": [
    {
     "name": "stdout",
     "output_type": "stream",
     "text": [
      "0\n",
      "1\n",
      "2\n",
      "3\n",
      "4\n"
     ]
    }
   ],
   "source": [
    "# range(stop)\n",
    "for i in range(5):\n",
    "    print(i)\n"
   ]
  },
  {
   "cell_type": "markdown",
   "id": "e75900fd",
   "metadata": {},
   "source": [
    "### 2. Using range(start, stop)"
   ]
  },
  {
   "cell_type": "code",
   "execution_count": 7,
   "id": "f9416f9f",
   "metadata": {},
   "outputs": [
    {
     "name": "stdout",
     "output_type": "stream",
     "text": [
      "2\n",
      "3\n",
      "4\n",
      "5\n",
      "6\n",
      "7\n"
     ]
    }
   ],
   "source": [
    "for i in range(2, 8):\n",
    "    print(i)"
   ]
  },
  {
   "cell_type": "markdown",
   "id": "7573c63d",
   "metadata": {},
   "source": [
    "###  3.Using range(start, stop, step):"
   ]
  },
  {
   "cell_type": "code",
   "execution_count": 8,
   "id": "3c377dc9",
   "metadata": {},
   "outputs": [
    {
     "name": "stdout",
     "output_type": "stream",
     "text": [
      "1\n",
      "3\n",
      "5\n",
      "7\n",
      "9\n"
     ]
    }
   ],
   "source": [
    "for i in range(1, 10, 2):\n",
    "    print(i)"
   ]
  },
  {
   "cell_type": "markdown",
   "id": "0c854997",
   "metadata": {},
   "source": [
    "## 2.2 while loops:"
   ]
  },
  {
   "cell_type": "code",
   "execution_count": null,
   "id": "6bd14e04",
   "metadata": {},
   "outputs": [],
   "source": [
    "while condition:\n",
    "    # code to be executed as long as the condition is true"
   ]
  },
  {
   "cell_type": "code",
   "execution_count": 9,
   "id": "639d2e87",
   "metadata": {},
   "outputs": [
    {
     "name": "stdout",
     "output_type": "stream",
     "text": [
      "0\n",
      "1\n",
      "2\n",
      "3\n",
      "4\n"
     ]
    }
   ],
   "source": [
    "# Example 1\n",
    "count = 0\n",
    "while count < 5:\n",
    "    print(count)\n",
    "    count += 1"
   ]
  },
  {
   "cell_type": "code",
   "execution_count": 10,
   "id": "725ae4db",
   "metadata": {},
   "outputs": [
    {
     "name": "stdout",
     "output_type": "stream",
     "text": [
      "Enter the password: 12345\n",
      "Enter the password: secret\n",
      "Access granted!\n"
     ]
    }
   ],
   "source": [
    "# Example 2\n",
    "password = \"\"\n",
    "while password != \"secret\":\n",
    "    password = input(\"Enter the password: \")\n",
    "print(\"Access granted!\")"
   ]
  },
  {
   "cell_type": "markdown",
   "id": "0c15913e",
   "metadata": {},
   "source": [
    "## 2.3 break and continue statements:\n",
    "### 2.3.1 break: Exits the loop prematurely.\n",
    "### 2.3.2 continue: Skips the rest of the code inside the loop for the current iteration and goes to the next iteration."
   ]
  },
  {
   "cell_type": "code",
   "execution_count": null,
   "id": "b2e12a07",
   "metadata": {},
   "outputs": [],
   "source": [
    "# Example 1 - break\n",
    "for i in range(10):\n",
    "    if i == 5:\n",
    "        break\n",
    "    print(i)"
   ]
  },
  {
   "cell_type": "code",
   "execution_count": 11,
   "id": "9c71cc00",
   "metadata": {},
   "outputs": [
    {
     "name": "stdout",
     "output_type": "stream",
     "text": [
      "0\n",
      "1\n",
      "3\n",
      "4\n"
     ]
    }
   ],
   "source": [
    "# Example 2 - continue\n",
    "for i in range(5):\n",
    "    if i == 2:\n",
    "        continue\n",
    "    print(i)"
   ]
  },
  {
   "cell_type": "markdown",
   "id": "abb1f9ae",
   "metadata": {},
   "source": [
    "# Functions"
   ]
  },
  {
   "cell_type": "markdown",
   "id": "dbcd03c3",
   "metadata": {},
   "source": [
    "### In Python, a function is a reusable block of code that performs a specific task or set of tasks. Functions allow you to organize your code, make it more modular, and avoid redundancy."
   ]
  },
  {
   "cell_type": "markdown",
   "id": "e7196677",
   "metadata": {},
   "source": [
    "## Advantages of Function"
   ]
  },
  {
   "cell_type": "markdown",
   "id": "a7713c29",
   "metadata": {},
   "source": [
    "## 1. Modularity:\n",
    "#### Functions allow you to break down a program into smaller, manageable, and modular components. Each function can be designed to perform a specific task, making the overall codebase more organized.\n",
    "## 2. Reusability:\n",
    "####  Once you've defined a function, you can reuse it in different parts of your program or even in other programs. This reduces redundancy and promotes the reuse of well-tested and reliable code.\n",
    "##  3. Readability:\n",
    "####  Improved Readability: Functions make code more readable by providing a high-level view of the program's logic. Instead of dealing with a large, monolithic script, readers can understand the program's functionality by examining well-named functions and their interactions."
   ]
  },
  {
   "cell_type": "markdown",
   "id": "0745a337",
   "metadata": {},
   "source": [
    "## Parts of a Function "
   ]
  },
  {
   "cell_type": "code",
   "execution_count": null,
   "id": "008815e0",
   "metadata": {},
   "outputs": [],
   "source": [
    "def function_name(parameters):\n",
    "    \"\"\"\n",
    "    Docstring: Optional documentation string describing the function.\n",
    "    \"\"\"\n",
    "    # code to be executed\n",
    "    # ...\n",
    "    return result  # optional, the function can return a value"
   ]
  },
  {
   "cell_type": "markdown",
   "id": "b2bc7111",
   "metadata": {},
   "source": [
    "def: Keyword used to define a function.\n",
    "\n",
    "function_name: Name of the function. Follows the same naming conventions as variables.\n",
    "\n",
    "parameters: Input values that the function takes. These are optional; a function can take zero or more parameters.\n",
    "\n",
    "Docstring: An optional string that provides documentation for the function. It is used to describe the purpose of the function, the parameters it takes, and the value it returns.\n",
    "\n",
    "Code Block: The indented block of code following the function definition is the body of the function. It contains the instructions that are executed when the function is called.\n",
    "\n",
    "return statement: Optional statement used to return a value from the function. If omitted, the function returns None by default."
   ]
  },
  {
   "cell_type": "code",
   "execution_count": 12,
   "id": "ab521a79",
   "metadata": {},
   "outputs": [
    {
     "name": "stdout",
     "output_type": "stream",
     "text": [
      "Hello, John!\n"
     ]
    }
   ],
   "source": [
    "# Example1\n",
    "def greet(name):\n",
    "    \"\"\"\n",
    "    This function greets the person passed in as a parameter.\n",
    "    \"\"\"\n",
    "    return f\"Hello, {name}!\"\n",
    "\n",
    "# Call the function\n",
    "result = greet(\"John\")\n",
    "print(result)"
   ]
  },
  {
   "cell_type": "code",
   "execution_count": 13,
   "id": "cebeb228",
   "metadata": {},
   "outputs": [
    {
     "name": "stdout",
     "output_type": "stream",
     "text": [
      "Enter a number3\n",
      "27\n"
     ]
    }
   ],
   "source": [
    "# Example 2\n",
    "def cube(x):\n",
    "    result = x*x*x\n",
    "    return(result)\n",
    "n = int(input(\"Enter a number\"))\n",
    "cube_of_num = cube(n)\n",
    "print(cube_of_num)"
   ]
  },
  {
   "cell_type": "markdown",
   "id": "f20407b5",
   "metadata": {},
   "source": [
    "## Built in Functions"
   ]
  },
  {
   "cell_type": "markdown",
   "id": "269faee9",
   "metadata": {},
   "source": [
    "### Python comes with a rich set of built-in functions that provide essential functionality for various tasks. Here are some commonly used built-in functions in Python:"
   ]
  },
  {
   "cell_type": "markdown",
   "id": "bf5c5f9a",
   "metadata": {},
   "source": [
    "## 1. print(): Outputs text or variables to the console"
   ]
  },
  {
   "cell_type": "code",
   "execution_count": 15,
   "id": "8be7977b",
   "metadata": {},
   "outputs": [
    {
     "name": "stdout",
     "output_type": "stream",
     "text": [
      "Hello, World!\n"
     ]
    }
   ],
   "source": [
    "print(\"Hello, World!\")"
   ]
  },
  {
   "cell_type": "markdown",
   "id": "2a621123",
   "metadata": {},
   "source": [
    "## 2. len(): Returns the length of a sequence (such as a string, list, or tuple)."
   ]
  },
  {
   "cell_type": "code",
   "execution_count": 16,
   "id": "33ae2bcb",
   "metadata": {},
   "outputs": [],
   "source": [
    "my_list = [1, 2, 3, 4, 5]\n",
    "length = len(my_list)"
   ]
  },
  {
   "cell_type": "markdown",
   "id": "852fce71",
   "metadata": {},
   "source": [
    "## 3. type(): Returns the type of an object."
   ]
  },
  {
   "cell_type": "code",
   "execution_count": 17,
   "id": "3a187842",
   "metadata": {},
   "outputs": [
    {
     "name": "stdout",
     "output_type": "stream",
     "text": [
      "<class 'int'>\n"
     ]
    }
   ],
   "source": [
    "x = 10\n",
    "print(type(x))  # Output: <class 'int'>"
   ]
  },
  {
   "cell_type": "markdown",
   "id": "fe1a109b",
   "metadata": {},
   "source": [
    "## 4. input(): Reads a line from the console (user input)."
   ]
  },
  {
   "cell_type": "code",
   "execution_count": 18,
   "id": "7e26040c",
   "metadata": {},
   "outputs": [
    {
     "name": "stdout",
     "output_type": "stream",
     "text": [
      "Enter your name: pal\n",
      "pal\n"
     ]
    }
   ],
   "source": [
    "name = input(\"Enter your name: \")\n",
    "print(name)"
   ]
  },
  {
   "cell_type": "markdown",
   "id": "1ba017b0",
   "metadata": {},
   "source": [
    "## 5.int(), float(), str(): Convert values to integers, floating-point numbers, or strings."
   ]
  },
  {
   "cell_type": "code",
   "execution_count": null,
   "id": "76564ab9",
   "metadata": {},
   "outputs": [],
   "source": [
    "x = int(\"5\")\n",
    "y = float(\"3.14\")\n",
    "z = str(42)\n",
    "print(x)\n",
    "print(y)\n",
    "print(z)"
   ]
  },
  {
   "cell_type": "markdown",
   "id": "ddec56f1",
   "metadata": {},
   "source": [
    "## 6.max(), min(): Returns the maximum or minimum value in a sequence."
   ]
  },
  {
   "cell_type": "code",
   "execution_count": 7,
   "id": "fffeca83",
   "metadata": {},
   "outputs": [
    {
     "name": "stdout",
     "output_type": "stream",
     "text": [
      "Max = 8\n",
      "Min = 1\n"
     ]
    }
   ],
   "source": [
    "numbers = [2, 5, 1, 8, 3]\n",
    "max_num = max(numbers)\n",
    "min_num = min(numbers)\n",
    "print(\"Max =\",max_num )\n",
    "print(\"Min =\",min_num)"
   ]
  },
  {
   "cell_type": "markdown",
   "id": "f9857222",
   "metadata": {},
   "source": [
    "## 7.sum(): Returns the sum of all elements in a sequence."
   ]
  },
  {
   "cell_type": "code",
   "execution_count": 9,
   "id": "4fb2bf6e",
   "metadata": {},
   "outputs": [
    {
     "name": "stdout",
     "output_type": "stream",
     "text": [
      "15\n"
     ]
    }
   ],
   "source": [
    "numbers = [1, 2, 3, 4, 5]\n",
    "total = sum(numbers)\n",
    "print(total)"
   ]
  },
  {
   "cell_type": "markdown",
   "id": "cddb2f53",
   "metadata": {},
   "source": [
    "## 8.abs(): Returns the absolute value of a number."
   ]
  },
  {
   "cell_type": "code",
   "execution_count": 10,
   "id": "3da222a7",
   "metadata": {},
   "outputs": [
    {
     "name": "stdout",
     "output_type": "stream",
     "text": [
      "10\n"
     ]
    }
   ],
   "source": [
    "x = -10\n",
    "absolute_value = abs(x)\n",
    "print(absolute_value)"
   ]
  },
  {
   "cell_type": "markdown",
   "id": "06cef84f",
   "metadata": {},
   "source": [
    "## 9. round(): Rounds a floating-point number to the nearest integer."
   ]
  },
  {
   "cell_type": "code",
   "execution_count": 11,
   "id": "262aca67",
   "metadata": {},
   "outputs": [
    {
     "name": "stdout",
     "output_type": "stream",
     "text": [
      "3.14\n"
     ]
    }
   ],
   "source": [
    "x = 3.14159\n",
    "rounded_value = round(x, 2)  # Rounds to 2 decimal places\n",
    "print(rounded_value)"
   ]
  },
  {
   "cell_type": "markdown",
   "id": "7367bed0",
   "metadata": {},
   "source": [
    "## 10.round(): Rounds a floating-point number to the nearest integer."
   ]
  },
  {
   "cell_type": "code",
   "execution_count": 13,
   "id": "3b8e8333",
   "metadata": {},
   "outputs": [
    {
     "name": "stdout",
     "output_type": "stream",
     "text": [
      "[1, 1, 2, 3, 4, 5, 9]\n"
     ]
    }
   ],
   "source": [
    "my_list = [3, 1, 4, 1, 5, 9, 2]\n",
    "sorted_list = sorted(my_list)\n",
    "print(sorted_list)"
   ]
  },
  {
   "cell_type": "markdown",
   "id": "731b1ebe",
   "metadata": {},
   "source": [
    "# Math Module"
   ]
  },
  {
   "cell_type": "markdown",
   "id": "82a9f7bc",
   "metadata": {},
   "source": [
    "### The math module in Python provides a variety of mathematical functions. Here are some examples of commonly used functions from the math module:"
   ]
  },
  {
   "cell_type": "code",
   "execution_count": 16,
   "id": "18a6d4b2",
   "metadata": {},
   "outputs": [
    {
     "name": "stdout",
     "output_type": "stream",
     "text": [
      "1. Basic Arithmetic:\n",
      "   - Multiplication: 24\n",
      "\n",
      "2. Exponential and Logarithmic Functions:\n",
      "   - Exponential: 7.38905609893065\n",
      "   - Natural Logarithm: 2.0794415416798357\n",
      "   - Base-10 Logarithm: 2.0\n",
      "   - Square Root: 5.0\n",
      "\n",
      "3. Trigonometric Functions:\n",
      "   - Sine: 0.49999999999999994\n",
      "   - Cosine: 0.7071067811865476\n",
      "   - Tangent: 1.7320508075688767\n",
      "\n",
      "4. Angular Conversion:\n",
      "   - Degrees to Radians: 3.141592653589793\n",
      "   - Radians to Degrees: 180.0\n",
      "\n",
      "5. Constants:\n",
      "   - π (pi): 3.141592653589793\n",
      "   - Euler's Number (e): 2.718281828459045\n"
     ]
    }
   ],
   "source": [
    "import math\n",
    "\n",
    "# Basic arithmetic operations\n",
    "print(\"1. Basic Arithmetic:\")\n",
    "# print(\"   - Addition:\", math.add(4, 7))  # New in Python 3.10\n",
    "# print(\"   - Subtraction:\", math.subtract(10, 3))  # New in Python 3.10\n",
    "print(\"   - Multiplication:\", math.prod([2, 3, 4]))  # New in Python 3.8\n",
    "# print(\"   - Division:\", math.divmod(17, 5))  # New in Python 3.10\n",
    "\n",
    "# Exponential and logarithmic functions\n",
    "print(\"\\n2. Exponential and Logarithmic Functions:\")\n",
    "print(\"   - Exponential:\", math.exp(2))\n",
    "print(\"   - Natural Logarithm:\", math.log(8))\n",
    "print(\"   - Base-10 Logarithm:\", math.log10(100))\n",
    "print(\"   - Square Root:\", math.sqrt(25))\n",
    "\n",
    "# Trigonometric functions\n",
    "print(\"\\n3. Trigonometric Functions:\")\n",
    "print(\"   - Sine:\", math.sin(math.radians(30)))  # Convert degrees to radians\n",
    "print(\"   - Cosine:\", math.cos(math.radians(45)))\n",
    "print(\"   - Tangent:\", math.tan(math.radians(60)))\n",
    "\n",
    "# Angular conversion\n",
    "print(\"\\n4. Angular Conversion:\")\n",
    "print(\"   - Degrees to Radians:\", math.radians(180))\n",
    "print(\"   - Radians to Degrees:\", math.degrees(math.pi))\n",
    "\n",
    "# Constants\n",
    "print(\"\\n5. Constants:\")\n",
    "print(\"   - π (pi):\", math.pi)\n",
    "print(\"   - Euler's Number (e):\", math.e)"
   ]
  },
  {
   "cell_type": "code",
   "execution_count": 6,
   "id": "8db3feff",
   "metadata": {},
   "outputs": [],
   "source": [
    "# help(\"math\")"
   ]
  },
  {
   "cell_type": "code",
   "execution_count": 5,
   "id": "c8ffa953",
   "metadata": {},
   "outputs": [],
   "source": [
    "# help(\"sys\")"
   ]
  },
  {
   "cell_type": "markdown",
   "id": "c496f5f6",
   "metadata": {},
   "source": [
    "# Variable and Scope "
   ]
  },
  {
   "cell_type": "markdown",
   "id": "a1ece4bb",
   "metadata": {},
   "source": [
    "### In Python, the scope of a variable refers to the region of the code where the variable can be accessed or modified. Python has two main types of variable scopes: global scope and local scope."
   ]
  },
  {
   "cell_type": "markdown",
   "id": "47917785",
   "metadata": {},
   "source": [
    "## 1. Global Scope"
   ]
  },
  {
   "cell_type": "markdown",
   "id": "ead985af",
   "metadata": {},
   "source": [
    "### A variable declared outside of any function or block has a global scope. It can be accessed from any part of the code, including within functions."
   ]
  },
  {
   "cell_type": "code",
   "execution_count": 18,
   "id": "73f34a58",
   "metadata": {},
   "outputs": [
    {
     "name": "stdout",
     "output_type": "stream",
     "text": [
      "10\n"
     ]
    }
   ],
   "source": [
    "global_variable = 10\n",
    "\n",
    "def my_function():\n",
    "    print(global_variable)\n",
    "\n",
    "my_function()  # Output: 10"
   ]
  },
  {
   "cell_type": "markdown",
   "id": "fb9498fc",
   "metadata": {},
   "source": [
    "## 2. Local Scope "
   ]
  },
  {
   "cell_type": "markdown",
   "id": "bd29ec25",
   "metadata": {},
   "source": [
    "### A variable declared within a function has a local scope, meaning it is only accessible within that function."
   ]
  },
  {
   "cell_type": "code",
   "execution_count": 19,
   "id": "bf451923",
   "metadata": {},
   "outputs": [
    {
     "name": "stdout",
     "output_type": "stream",
     "text": [
      "5\n"
     ]
    }
   ],
   "source": [
    "def my_function():\n",
    "    local_variable = 5\n",
    "    print(local_variable)\n",
    "\n",
    "my_function()  # Output: 5\n",
    "\n",
    "# Uncommenting the line below would result in an error because local_variable is not defined in this scope.\n",
    "# print(local_variable)"
   ]
  },
  {
   "cell_type": "markdown",
   "id": "79f2f3f0",
   "metadata": {},
   "source": [
    "## Sample Programs"
   ]
  },
  {
   "cell_type": "markdown",
   "id": "309b1405",
   "metadata": {},
   "source": [
    "### 1. Python program to calculate factorial of number"
   ]
  },
  {
   "cell_type": "code",
   "execution_count": 20,
   "id": "eaed541a",
   "metadata": {},
   "outputs": [
    {
     "name": "stdout",
     "output_type": "stream",
     "text": [
      "Enter a non-negative integer: 4\n",
      "The factorial of 4 is: 24\n"
     ]
    }
   ],
   "source": [
    "def factorial(n):\n",
    "    \"\"\"Calculate the factorial of a given number.\"\"\"\n",
    "    if n < 0:\n",
    "        return \"Factorial is undefined for negative numbers\"\n",
    "    elif n == 0 or n == 1:\n",
    "        return 1\n",
    "    else:\n",
    "        result = 1\n",
    "        for i in range(2, n + 1):\n",
    "            result *= i\n",
    "        return result\n",
    "\n",
    "# Input: Get a number from the user\n",
    "num = int(input(\"Enter a non-negative integer: \"))\n",
    "\n",
    "# Calculate and display the factorial\n",
    "result = factorial(num)\n",
    "print(f\"The factorial of {num} is: {result}\")\n"
   ]
  },
  {
   "cell_type": "markdown",
   "id": "218b3574",
   "metadata": {},
   "source": [
    "### 2. Python program to find the sum of n natural numbers"
   ]
  },
  {
   "cell_type": "code",
   "execution_count": 22,
   "id": "e29c191e",
   "metadata": {},
   "outputs": [
    {
     "name": "stdout",
     "output_type": "stream",
     "text": [
      "Enter a non-negative integer: 5\n",
      "The sum of the first 5 natural numbers is: 15\n"
     ]
    }
   ],
   "source": [
    "# Input: Get a number from the user\n",
    "num = int(input(\"Enter a non-negative integer: \"))\n",
    "\n",
    "# Check for negative input\n",
    "if num < 0:\n",
    "    print(\"Please enter a non-negative integer.\")\n",
    "else:\n",
    "    # Calculate the sum of the first n natural numbers using a for loop\n",
    "    sum_result = 0\n",
    "    for i in range(1, num + 1):\n",
    "        sum_result += i\n",
    "\n",
    "    # Display the result\n",
    "    print(f\"The sum of the first {num} natural numbers is: {sum_result}\")\n"
   ]
  },
  {
   "cell_type": "markdown",
   "id": "b9fdfce4",
   "metadata": {},
   "source": [
    "### 3. Python program to to generate multiplication table up to n"
   ]
  },
  {
   "cell_type": "code",
   "execution_count": 28,
   "id": "199f7b34",
   "metadata": {},
   "outputs": [
    {
     "name": "stdout",
     "output_type": "stream",
     "text": [
      "Enter a positive integer for the multiplication table: 5\n",
      "Multiplication Table up to 5:\n",
      "1 x 1 = 1\t1 x 2 = 2\t1 x 3 = 3\t1 x 4 = 4\t1 x 5 = 5\t1 x 6 = 6\t1 x 7 = 7\t1 x 8 = 8\t1 x 9 = 9\t1 x 10 = 10\t\n",
      "2 x 1 = 2\t2 x 2 = 4\t2 x 3 = 6\t2 x 4 = 8\t2 x 5 = 10\t2 x 6 = 12\t2 x 7 = 14\t2 x 8 = 16\t2 x 9 = 18\t2 x 10 = 20\t\n",
      "3 x 1 = 3\t3 x 2 = 6\t3 x 3 = 9\t3 x 4 = 12\t3 x 5 = 15\t3 x 6 = 18\t3 x 7 = 21\t3 x 8 = 24\t3 x 9 = 27\t3 x 10 = 30\t\n",
      "4 x 1 = 4\t4 x 2 = 8\t4 x 3 = 12\t4 x 4 = 16\t4 x 5 = 20\t4 x 6 = 24\t4 x 7 = 28\t4 x 8 = 32\t4 x 9 = 36\t4 x 10 = 40\t\n",
      "5 x 1 = 5\t5 x 2 = 10\t5 x 3 = 15\t5 x 4 = 20\t5 x 5 = 25\t5 x 6 = 30\t5 x 7 = 35\t5 x 8 = 40\t5 x 9 = 45\t5 x 10 = 50\t\n"
     ]
    }
   ],
   "source": [
    "# Input: Get a number from the user\n",
    "n = int(input(\"Enter a positive integer for the multiplication table: \"))\n",
    "\n",
    "# Check for non-positive input\n",
    "if n <= 0:\n",
    "    print(\"Please enter a positive integer.\")\n",
    "else:\n",
    "    # Generate the multiplication table up to n\n",
    "    print(f\"Multiplication Table up to {n}:\")\n",
    "\n",
    "    for i in range(1, n + 1):\n",
    "        for j in range(1, 11):  # You can adjust the range for a different number of columns\n",
    "            result = i * j\n",
    "            print(f\"{i} x {j} = {result}\", end=\"\\t\")\n",
    "        print()  # Move to the next line for the next row"
   ]
  },
  {
   "cell_type": "markdown",
   "id": "fa5f94c1",
   "metadata": {},
   "source": [
    "## 4. Python program to demonstrate pythogoras theorem"
   ]
  },
  {
   "cell_type": "code",
   "execution_count": 30,
   "id": "8013d60d",
   "metadata": {},
   "outputs": [
    {
     "name": "stdout",
     "output_type": "stream",
     "text": [
      "Enter the length of side A: 3\n",
      "Enter the length of side B: 5\n",
      "The length of the hypotenuse is: 5.830951894845301\n"
     ]
    }
   ],
   "source": [
    "import math\n",
    "\n",
    "def pythagorean_theorem(a, b):\n",
    "    \"\"\"Calculate the length of the hypotenuse using the Pythagorean theorem.\"\"\"\n",
    "    c = math.sqrt(a**2 + b**2)\n",
    "    return c\n",
    "\n",
    "# Input: Get the lengths of the two shorter sides from the user\n",
    "side_a = float(input(\"Enter the length of side A: \"))\n",
    "side_b = float(input(\"Enter the length of side B: \"))\n",
    "\n",
    "# Calculate the length of the hypotenuse\n",
    "hypotenuse = pythagorean_theorem(side_a, side_b)\n",
    "\n",
    "# Display the result\n",
    "print(f\"The length of the hypotenuse is: {hypotenuse}\")"
   ]
  },
  {
   "cell_type": "markdown",
   "id": "da2e7acb",
   "metadata": {},
   "source": [
    "### 5. Python program to display matrix of order n X n"
   ]
  },
  {
   "cell_type": "code",
   "execution_count": 31,
   "id": "632eea0c",
   "metadata": {},
   "outputs": [
    {
     "name": "stdout",
     "output_type": "stream",
     "text": [
      "Enter the order of the matrix (n): 4\n",
      "Matrix of order 4 x 4:\n",
      "[1, 2, 3, 4]\n",
      "[2, 3, 4, 5]\n",
      "[3, 4, 5, 6]\n",
      "[4, 5, 6, 7]\n"
     ]
    }
   ],
   "source": [
    "# Input: Get the order of the matrix from the user\n",
    "n = int(input(\"Enter the order of the matrix (n): \"))\n",
    "\n",
    "# Check for non-positive input\n",
    "if n <= 0:\n",
    "    print(\"Please enter a positive integer.\")\n",
    "else:\n",
    "    # Generate and display the matrix\n",
    "    matrix = [[i + j for j in range(1, n + 1)] for i in range(n)]\n",
    "\n",
    "    print(f\"Matrix of order {n} x {n}:\")\n",
    "\n",
    "    for row in matrix:\n",
    "        print(row)"
   ]
  },
  {
   "cell_type": "markdown",
   "id": "ae09922d",
   "metadata": {},
   "source": [
    "### 6.Python program to read, multiply and display product of two matrices of order n X n"
   ]
  },
  {
   "cell_type": "code",
   "execution_count": 2,
   "id": "efcf2dbc",
   "metadata": {},
   "outputs": [
    {
     "name": "stdout",
     "output_type": "stream",
     "text": [
      "Enter the order of the matrices (n): 2\n",
      "Enter the elements of the first matrix:\n",
      "Enter the elements of the matrix (2 x 2):\n",
      "1 1\n",
      "1 1\n",
      "Enter the elements of the second matrix:\n",
      "Enter the elements of the matrix (2 x 2):\n",
      "1 1\n",
      "1 1\n",
      "Product of the two matrices:\n",
      "[2, 2]\n",
      "[2, 2]\n"
     ]
    }
   ],
   "source": [
    "# Function to read a matrix of order n x n\n",
    "def read_matrix(n):\n",
    "    matrix = []\n",
    "    print(f\"Enter the elements of the matrix ({n} x {n}):\")\n",
    "    for i in range(n):\n",
    "        row = list(map(int, input().split()))\n",
    "        matrix.append(row)\n",
    "    return matrix\n",
    "\n",
    "# Function to multiply two matrices\n",
    "def multiply_matrices(matrix1, matrix2):\n",
    "    result_matrix = [[0 for _ in range(len(matrix2[0]))] for _ in range(len(matrix1))]\n",
    "    for i in range(len(matrix1)):\n",
    "        for j in range(len(matrix2[0])):\n",
    "            for k in range(len(matrix2)):\n",
    "                result_matrix[i][j] += matrix1[i][k] * matrix2[k][j]\n",
    "    return result_matrix\n",
    "\n",
    "# Function to display a matrix\n",
    "def display_matrix(matrix):\n",
    "    for row in matrix:\n",
    "        print(row)\n",
    "\n",
    "# Input: Get the order of the matrices from the user\n",
    "n = int(input(\"Enter the order of the matrices (n): \"))\n",
    "\n",
    "# Check for non-positive input\n",
    "if n <= 0:\n",
    "    print(\"Please enter a positive integer.\")\n",
    "else:\n",
    "    # Read two matrices\n",
    "    print(\"Enter the elements of the first matrix:\")\n",
    "    matrix1 = read_matrix(n)\n",
    "\n",
    "    print(\"Enter the elements of the second matrix:\")\n",
    "    matrix2 = read_matrix(n)\n",
    "\n",
    "    # Multiply matrices\n",
    "    result_matrix = multiply_matrices(matrix1, matrix2)\n",
    "\n",
    "    # Display the product matrix\n",
    "    print(\"Product of the two matrices:\")\n",
    "    display_matrix(result_matrix)\n"
   ]
  },
  {
   "cell_type": "markdown",
   "id": "77e4f784",
   "metadata": {},
   "source": [
    "# References : Youtube Videos"
   ]
  },
  {
   "cell_type": "markdown",
   "id": "8d3affb2",
   "metadata": {},
   "source": [
    "#### Datatypes: https://www.youtube.com/watch?v=gCCVsvgR2KU \n",
    "#### Operators: https://www.youtube.com/watch?v=v5MR5JnKcZI \n",
    "#### Flow Control: https://www.youtube.com/watch?v=PqFKRqpHrjw\n",
    "#### For loop: https://www.youtube.com/watch?v=0ZvaDa8eT5s\n",
    "#### While loop: https://www.youtube.com/watch?v=HZARImviDxg\n",
    "#### Exceptions: https://www.youtube.com/watch?v=6SPDvPK38tw\n",
    "#### Functions: https://www.youtube.com/watch?v=BVfCWuca9nw\n",
    "#### Arguments: https://www.youtube.com/watch?v=ijXMGpoMkhQ\n",
    "#### Return value: https://www.youtube.com/watch?v=nuNXiEDnM44\n",
    "#### Strings: https://www.youtube.com/watch?v=lSItwlnF0eU\n",
    "#### String functions: https://www.youtube.com/watch?v=9a3CxJyTq00\n",
    "#### Lists: https://www.youtube.com/watch?v=Eaz5e6M8tL4\n",
    "#### List methods: https://www.youtube.com/watch?v=8-RDVWGktuI\n",
    "#### Tuples: https://www.youtube.com/watch?v=bdS4dHIJGBc\n",
    "#### Tuple operations: https://www.youtube.com/watch?v=TItKabcTTQ4\n",
    "#### Dictionary: https://www.youtube.com/watch?v=4Q0pW8XBOkc\n",
    "#### Dictionary methods: https://www.youtube.com/watch?v=oLeNHuORpNY\n",
    "#### Files: https://www.youtube.com/watch?v=vuyb7CxZgbU\n",
    "#### https://www.youtube.com/watch?v=FqcjKewJTQ0\n",
    "#### File organization: https://www.youtube.com/watch?v=MRuq3SRXses\n",
    "#### Regular expressions: https://www.youtube.com/watch?v=LnzFnZfHLS4\n",
    "#### OOP’s concepts: https://www.youtube.com/watch?v=qiSCMNBIP2g\n",
    "#### Inheritance: https://www.youtube.com/watch?v=Cn7AkDb4pIU\n",
    "#### Web scraping: https://www.youtube.com/watch?v=ng2o98k983k\n",
    "#### Excel: https://www.youtube.com/watch?v=nsKNPHJ9iPc\n",
    "#### PDFs: https://www.youtube.com/watch?v=q70xzDG6nls\n",
    "#### https://www.youtube.com/watch?v=JhQVD7Y1bsA \n",
    "#### https://www.youtube.com/watch?v=FcrW-ESdY-A \n",
    "#### Word files: https://www.youtube.com/watch?v=ZU3cSl51jWE\n",
    "#### JSON files: https://www.youtube.com/watch?v=9N6a-VLBa2I \n",
    "#### Python (Full Course): https://www.youtube.com/watch?v=_uQrJ0TkZlc"
   ]
  },
  {
   "cell_type": "code",
   "execution_count": null,
   "id": "4758e746",
   "metadata": {},
   "outputs": [],
   "source": []
  }
 ],
 "metadata": {
  "kernelspec": {
   "display_name": "Python 3 (ipykernel)",
   "language": "python",
   "name": "python3"
  },
  "language_info": {
   "codemirror_mode": {
    "name": "ipython",
    "version": 3
   },
   "file_extension": ".py",
   "mimetype": "text/x-python",
   "name": "python",
   "nbconvert_exporter": "python",
   "pygments_lexer": "ipython3",
   "version": "3.11.5"
  }
 },
 "nbformat": 4,
 "nbformat_minor": 5
}
