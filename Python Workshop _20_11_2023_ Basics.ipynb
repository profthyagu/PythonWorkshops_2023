{
 "cells": [
  {
   "cell_type": "markdown",
   "id": "0f8fbd11",
   "metadata": {},
   "source": [
    "# Python Basics"
   ]
  },
  {
   "cell_type": "markdown",
   "id": "218ef7df",
   "metadata": {},
   "source": [
    "## What is Python?"
   ]
  },
  {
   "cell_type": "markdown",
   "id": "58e550a4",
   "metadata": {},
   "source": [
    "## 1. Python is a high-level, interpreted, and general-purpose programming language. \n",
    "## 2. It was created by Guido van Rossum and first released in 1991. \n"
   ]
  },
  {
   "cell_type": "markdown",
   "id": "a4d0df16",
   "metadata": {},
   "source": [
    "# Python Features"
   ]
  },
  {
   "cell_type": "markdown",
   "id": "80d20c4c",
   "metadata": {},
   "source": [
    "### 1. Readability and Simplicity\n",
    "### 2. Interpreted Language\n",
    "### 3. Extensive Standard Library\n",
    "### 4. Dynamically Typed\n",
    "### 5. Object-Oriented Programming (OOP)\n"
   ]
  },
  {
   "cell_type": "markdown",
   "id": "a4e7abc3",
   "metadata": {},
   "source": [
    "## First Python Program"
   ]
  },
  {
   "cell_type": "code",
   "execution_count": 1,
   "id": "246398dc",
   "metadata": {},
   "outputs": [
    {
     "name": "stdout",
     "output_type": "stream",
     "text": [
      " My name is Python \n"
     ]
    }
   ],
   "source": [
    "print(\" My name is Python \")"
   ]
  },
  {
   "cell_type": "markdown",
   "id": "6ff67a3d",
   "metadata": {},
   "source": [
    "# Python Keywords "
   ]
  },
  {
   "cell_type": "markdown",
   "id": "f19b863d",
   "metadata": {},
   "source": [
    "## In Python, keywords are reserved words that have special meanings and cannot be used as identifiers (variable names, function names, etc.). These keywords define the syntax and structure of the Python language."
   ]
  },
  {
   "cell_type": "markdown",
   "id": "4ca3299c",
   "metadata": {},
   "source": [
    "## List of Python Keywords"
   ]
  },
  {
   "cell_type": "code",
   "execution_count": 2,
   "id": "e5251801",
   "metadata": {},
   "outputs": [
    {
     "name": "stdout",
     "output_type": "stream",
     "text": [
      "List of Python Keywords:\n",
      "['False', 'None', 'True', 'and', 'as', 'assert', 'async', 'await', 'break', 'class', 'continue', 'def', 'del', 'elif', 'else', 'except', 'finally', 'for', 'from', 'global', 'if', 'import', 'in', 'is', 'lambda', 'nonlocal', 'not', 'or', 'pass', 'raise', 'return', 'try', 'while', 'with', 'yield']\n"
     ]
    }
   ],
   "source": [
    "import keyword\n",
    "print(\"List of Python Keywords:\")\n",
    "print(keyword.kwlist)"
   ]
  },
  {
   "cell_type": "code",
   "execution_count": null,
   "id": "36e52f04",
   "metadata": {},
   "outputs": [],
   "source": [
    "These keywords have specific roles in the language. For example:\n",
    "if, else, and elif are used for conditional statements.\n",
    "for and while are used for loops.\n",
    "def is used to define functions.\n",
    "class is used to define classes.\n",
    "import is used to bring modules or packages into your script.\n",
    "True and False are Boolean values.\n",
    "None represents the absence of a value or a null value.\n",
    "try, except, finally are used for exception handling."
   ]
  },
  {
   "cell_type": "markdown",
   "id": "23f6454b",
   "metadata": {},
   "source": [
    "# Variables"
   ]
  },
  {
   "cell_type": "markdown",
   "id": "83688e0f",
   "metadata": {},
   "source": [
    "## In programming, a variable is a named storage location that holds a value or a reference to a value. "
   ]
  },
  {
   "cell_type": "markdown",
   "id": "860042f1",
   "metadata": {},
   "source": [
    "## In Python, you can create a variable by choosing a name and assigning a value to it using the assignment operator (=). Here's a simple example:"
   ]
  },
  {
   "cell_type": "code",
   "execution_count": 3,
   "id": "8567c614",
   "metadata": {},
   "outputs": [
    {
     "name": "stdout",
     "output_type": "stream",
     "text": [
      "Hello, Python!\n"
     ]
    }
   ],
   "source": [
    "# Creating a variable named 'message' and assigning a string value to it\n",
    "message = \"Hello, Python!\"\n",
    "\n",
    "# Printing the value of the variable\n",
    "print(message)"
   ]
  },
  {
   "cell_type": "code",
   "execution_count": 4,
   "id": "e01c33e3",
   "metadata": {},
   "outputs": [
    {
     "name": "stdout",
     "output_type": "stream",
     "text": [
      "42\n",
      "Python\n",
      "[1, 2, 3]\n"
     ]
    }
   ],
   "source": [
    "# Variables holding different types of data\n",
    "number_variable = 42\n",
    "string_variable = \"Python\"\n",
    "list_variable = [1, 2, 3]\n",
    "\n",
    "# Printing the values\n",
    "print(number_variable)\n",
    "print(string_variable)\n",
    "print(list_variable)"
   ]
  },
  {
   "cell_type": "markdown",
   "id": "01afc100",
   "metadata": {},
   "source": [
    "# Operators"
   ]
  },
  {
   "cell_type": "markdown",
   "id": "44de1f7b",
   "metadata": {},
   "source": [
    "## In Python, operators are special symbols or keywords that perform operations on operands. Operands are the values or variables that the operator acts upon. "
   ]
  },
  {
   "cell_type": "markdown",
   "id": "377bc4ff",
   "metadata": {},
   "source": [
    "# 1. Arithmetic Operators:\n",
    "## Arithmetic operators perform mathematical operations."
   ]
  },
  {
   "cell_type": "code",
   "execution_count": 5,
   "id": "f7d31f93",
   "metadata": {},
   "outputs": [
    {
     "name": "stdout",
     "output_type": "stream",
     "text": [
      "Addition: 8\n",
      "Subtraction: 5\n",
      "Multiplication: 24\n",
      "Division: 5.0\n",
      "Modulus: 2\n",
      "Exponentiation: 16\n"
     ]
    }
   ],
   "source": [
    "# Addition\n",
    "result_addition = 5 + 3\n",
    "print(\"Addition:\", result_addition)\n",
    "\n",
    "# Subtraction\n",
    "result_subtraction = 8 - 3\n",
    "print(\"Subtraction:\", result_subtraction)\n",
    "\n",
    "# Multiplication\n",
    "result_multiplication = 4 * 6\n",
    "print(\"Multiplication:\", result_multiplication)\n",
    "\n",
    "# Division\n",
    "result_division = 15 / 3\n",
    "print(\"Division:\", result_division)\n",
    "\n",
    "# Modulus (remainder)\n",
    "result_modulus = 17 % 5\n",
    "print(\"Modulus:\", result_modulus)\n",
    "\n",
    "# Exponentiation\n",
    "result_exponentiation = 2 ** 4\n",
    "print(\"Exponentiation:\", result_exponentiation)\n"
   ]
  },
  {
   "cell_type": "markdown",
   "id": "b057302d",
   "metadata": {},
   "source": [
    "# 2.Relational Operators"
   ]
  },
  {
   "cell_type": "markdown",
   "id": "0fb084fa",
   "metadata": {},
   "source": [
    "## Relational operators, also known as comparison operators, are used to compare two values or expressions and return a Boolean result (True or False). Here are the commonly used relational operators in Python:"
   ]
  },
  {
   "cell_type": "markdown",
   "id": "c2064659",
   "metadata": {},
   "source": [
    "### Equal to (==):"
   ]
  },
  {
   "cell_type": "code",
   "execution_count": 6,
   "id": "3ea8ffff",
   "metadata": {},
   "outputs": [
    {
     "name": "stdout",
     "output_type": "stream",
     "text": [
      "False\n"
     ]
    }
   ],
   "source": [
    "x = 5\n",
    "y = 7\n",
    "result = x == y\n",
    "print(result)  # Output: False"
   ]
  },
  {
   "cell_type": "markdown",
   "id": "dc548d06",
   "metadata": {},
   "source": [
    "### Not equal to (!=):"
   ]
  },
  {
   "cell_type": "code",
   "execution_count": 7,
   "id": "195109c1",
   "metadata": {},
   "outputs": [
    {
     "name": "stdout",
     "output_type": "stream",
     "text": [
      "True\n"
     ]
    }
   ],
   "source": [
    "x = 5\n",
    "y = 7\n",
    "result = x != y\n",
    "print(result)  # Output: True"
   ]
  },
  {
   "cell_type": "markdown",
   "id": "7d53c312",
   "metadata": {},
   "source": [
    "## Greater than (>):"
   ]
  },
  {
   "cell_type": "code",
   "execution_count": 8,
   "id": "b46861f3",
   "metadata": {},
   "outputs": [
    {
     "name": "stdout",
     "output_type": "stream",
     "text": [
      "False\n"
     ]
    }
   ],
   "source": [
    "x = 5\n",
    "y = 7\n",
    "result = x > y\n",
    "print(result)  # Output: False"
   ]
  },
  {
   "cell_type": "markdown",
   "id": "9e87a88b",
   "metadata": {},
   "source": [
    "## Less than (<):"
   ]
  },
  {
   "cell_type": "code",
   "execution_count": 9,
   "id": "db1ba312",
   "metadata": {},
   "outputs": [
    {
     "name": "stdout",
     "output_type": "stream",
     "text": [
      "True\n"
     ]
    }
   ],
   "source": [
    "x = 5\n",
    "y = 7\n",
    "result = x < y\n",
    "print(result)  # Output: True"
   ]
  },
  {
   "cell_type": "markdown",
   "id": "8e64055b",
   "metadata": {},
   "source": [
    "## Greater than or equal to (>=):"
   ]
  },
  {
   "cell_type": "code",
   "execution_count": 10,
   "id": "e9033d34",
   "metadata": {},
   "outputs": [
    {
     "name": "stdout",
     "output_type": "stream",
     "text": [
      "True\n"
     ]
    }
   ],
   "source": [
    "x = 5\n",
    "y = 5\n",
    "result = x >= y\n",
    "print(result)  # Output: True"
   ]
  },
  {
   "cell_type": "markdown",
   "id": "01dfdbcc",
   "metadata": {},
   "source": [
    "## Less than or equal to (<=):"
   ]
  },
  {
   "cell_type": "code",
   "execution_count": 11,
   "id": "2996068c",
   "metadata": {},
   "outputs": [
    {
     "name": "stdout",
     "output_type": "stream",
     "text": [
      "True\n"
     ]
    }
   ],
   "source": [
    "x = 5\n",
    "y = 7\n",
    "result = x <= y\n",
    "print(result)  # Output: True"
   ]
  },
  {
   "cell_type": "markdown",
   "id": "3ab15fab",
   "metadata": {},
   "source": [
    "### These operators are often used in conditional statements (if, elif, else) and loops to control the flow of a program based on the relationship between variables or values. Here's a simple example:"
   ]
  },
  {
   "cell_type": "code",
   "execution_count": 12,
   "id": "d230bb5b",
   "metadata": {},
   "outputs": [
    {
     "name": "stdout",
     "output_type": "stream",
     "text": [
      "a is less than b\n"
     ]
    }
   ],
   "source": [
    "a = 10\n",
    "b = 20\n",
    "\n",
    "if a > b:\n",
    "    print(\"a is greater than b\")\n",
    "elif a < b:\n",
    "    print(\"a is less than b\")\n",
    "else:\n",
    "    print(\"a is equal to b\")"
   ]
  },
  {
   "cell_type": "markdown",
   "id": "a11afb54",
   "metadata": {},
   "source": [
    "# 3. Assignment Operators:"
   ]
  },
  {
   "cell_type": "markdown",
   "id": "a96444e0",
   "metadata": {},
   "source": [
    "## Assignment operators are used to assign values to variables"
   ]
  },
  {
   "cell_type": "code",
   "execution_count": 13,
   "id": "5385c23f",
   "metadata": {},
   "outputs": [
    {
     "name": "stdout",
     "output_type": "stream",
     "text": [
      "Assignment: 5\n",
      "Addition Assignment: 8\n",
      "Subtraction Assignment: 6\n",
      "Multiplication Assignment: 24\n"
     ]
    }
   ],
   "source": [
    "# Assignment\n",
    "a = 5\n",
    "print(\"Assignment:\", a)\n",
    "\n",
    "# Addition assignment\n",
    "a += 3\n",
    "print(\"Addition Assignment:\", a)\n",
    "\n",
    "# Subtraction assignment\n",
    "a -= 2\n",
    "print(\"Subtraction Assignment:\", a)\n",
    "\n",
    "# Multiplication assignment\n",
    "a *= 4\n",
    "print(\"Multiplication Assignment:\", a)"
   ]
  },
  {
   "cell_type": "markdown",
   "id": "e0d312b7",
   "metadata": {},
   "source": [
    "# Expressions"
   ]
  },
  {
   "cell_type": "markdown",
   "id": "af7628ea",
   "metadata": {},
   "source": [
    "### An expression is a combination of values, variables, and operators that can be evaluated to a single value. In other words, it produces a result. Expressions can include literals, variables, and function calls.\n",
    "### Examples of expressions:"
   ]
  },
  {
   "cell_type": "code",
   "execution_count": null,
   "id": "64bcb014",
   "metadata": {},
   "outputs": [],
   "source": [
    "# Arithmetic expression\n",
    "result = 2 + 3 * 4\n",
    "\n",
    "# String concatenation expression\n",
    "greeting = \"Hello\" + \" \" + \"World\"\n",
    "\n",
    "# Function call expression\n",
    "length = len(\"Python\")\n",
    "\n",
    "# Comparison expression\n",
    "is_equal = (5 == 5)"
   ]
  },
  {
   "cell_type": "raw",
   "id": "2e4f9f1b",
   "metadata": {},
   "source": [
    "In the examples above, each line represents an expression that produces a value. Expressions can be simple or complex, involving multiple operators and operands.\n"
   ]
  },
  {
   "cell_type": "markdown",
   "id": "f05c270b",
   "metadata": {},
   "source": [
    "# Statements"
   ]
  },
  {
   "cell_type": "markdown",
   "id": "29976886",
   "metadata": {},
   "source": [
    "### A statement is a complete line of code that performs an action. \n",
    "### Unlike expressions, statements do not necessarily produce a value. \n",
    "\n",
    "## Examples of statements:"
   ]
  },
  {
   "cell_type": "code",
   "execution_count": 2,
   "id": "425d8f13",
   "metadata": {},
   "outputs": [
    {
     "name": "stdout",
     "output_type": "stream",
     "text": [
      "x is greater than 5\n",
      "0\n",
      "1\n",
      "2\n",
      "3\n",
      "4\n"
     ]
    }
   ],
   "source": [
    "# Assignment statement\n",
    "x = 10\n",
    "\n",
    "# Conditional statement\n",
    "if x > 5:\n",
    "    print(\"x is greater than 5\")\n",
    "else:\n",
    "    print(\"x is not greater than 5\")\n",
    "\n",
    "# Loop statement\n",
    "for i in range(5):\n",
    "    print(i)\n"
   ]
  },
  {
   "cell_type": "markdown",
   "id": "ad899487",
   "metadata": {},
   "source": [
    "# Order of precedence"
   ]
  },
  {
   "cell_type": "markdown",
   "id": "3a4e7e12",
   "metadata": {},
   "source": [
    "### In Python, the order of precedence, also known as operator precedence, determines the order in which different operators are evaluated in an expression. Operators with higher precedence are evaluated before operators with lower precedence. If operators have the same precedence, their associativity (left-to-right or right-to-left) determines the order of evaluation."
   ]
  },
  {
   "cell_type": "markdown",
   "id": "23008e17",
   "metadata": {},
   "source": [
    "### PEMDAS order of operation is followed in Python:\n",
    "\n",
    "#### 1.Parentheses ( ) have the highest precedence and can be used to force an expression to evaluate in the order you want.\n",
    "#### 2. Exponentiation (**) has the next highest precedence,\n",
    "#### 3. Multiplication (*) and Division (/)have the same precedence, which is higher than \n",
    "#### 4. Addition and Subtraction, which also have the same precedence.\n",
    "\n",
    "#####  Operators with the same precedence are evaluated from left to right.\n",
    "##### Following examples illustrates the evaluation of expressions by Python interpreter. In each case the programmer must enter the expression , python interpreter evaluates the expression to a single value ."
   ]
  },
  {
   "cell_type": "code",
   "execution_count": 1,
   "id": "97834661",
   "metadata": {},
   "outputs": [
    {
     "name": "stdout",
     "output_type": "stream",
     "text": [
      "49.0\n"
     ]
    }
   ],
   "source": [
    "result = 2 + 3 * 4 ** 2 - (8 / 2) % 3\n",
    "print(result)"
   ]
  },
  {
   "cell_type": "code",
   "execution_count": null,
   "id": "5a88b3cc",
   "metadata": {},
   "outputs": [],
   "source": [
    "result = 2 + 3 * 4 ** 2 - (8 / 2) % 3\n",
    "In this example, the order of evaluation is as follows:\n",
    "8 / 2 is evaluated first (4.0)\n",
    "result = 2 + 3 * 4 ** 2 - 4.0 % 3\n",
    "4 ** 2 is evaluated next (16)\n",
    "result = 2 + 3 * 16 - 4.0 % 3\n",
    "3 * 16 is evaluated next (48)\n",
    "result = 2 + 48 - 4.0 % 3\n",
    "4.0 % 3 is evaluated next (1.0)\n",
    "result = 2 + 48 - 1.0\n",
    "2 + 48 is evaluated next (50)\n",
    "result = 50 - 1.0\n",
    "50 - 1 is evaluated (49).\n",
    "So, the final result printed will be 49."
   ]
  },
  {
   "cell_type": "markdown",
   "id": "7b5c0f3d",
   "metadata": {},
   "source": [
    "# Printing the data "
   ]
  },
  {
   "cell_type": "markdown",
   "id": "86cbcc6e",
   "metadata": {},
   "source": [
    "### In Python, you can use the print() function to display data on the console. The print() function takes one or more arguments and outputs them as text."
   ]
  },
  {
   "cell_type": "code",
   "execution_count": 4,
   "id": "5524b5fd",
   "metadata": {},
   "outputs": [
    {
     "name": "stdout",
     "output_type": "stream",
     "text": [
      "Sum: 15\n",
      "Product: 50\n"
     ]
    }
   ],
   "source": [
    "x = 5\n",
    "y = 10\n",
    "\n",
    "print(\"Sum:\", x + y)\n",
    "print(\"Product:\", x * y)"
   ]
  },
  {
   "cell_type": "code",
   "execution_count": 3,
   "id": "39db2053",
   "metadata": {},
   "outputs": [
    {
     "name": "stdout",
     "output_type": "stream",
     "text": [
      "Name: Alice\n",
      "Age: 30\n"
     ]
    }
   ],
   "source": [
    "name = \"Alice\"\n",
    "age = 30\n",
    "\n",
    "print(\"Name:\", name)\n",
    "print(\"Age:\", age)"
   ]
  },
  {
   "cell_type": "code",
   "execution_count": null,
   "id": "e2b4e359",
   "metadata": {},
   "outputs": [],
   "source": []
  },
  {
   "cell_type": "markdown",
   "id": "f40b6170",
   "metadata": {},
   "source": [
    "# Input Statement"
   ]
  },
  {
   "cell_type": "markdown",
   "id": "73377424",
   "metadata": {},
   "source": [
    "#### In Python, the input() function is used to take input from the user. It reads a line from the input and returns it as a string. You can also include a prompt as an argument to provide guidance to the user."
   ]
  },
  {
   "cell_type": "code",
   "execution_count": 5,
   "id": "a60d003e",
   "metadata": {},
   "outputs": [
    {
     "name": "stdout",
     "output_type": "stream",
     "text": [
      "Enter your name: pal\n",
      "Hello, pal!\n"
     ]
    }
   ],
   "source": [
    "# Basic input example\n",
    "name = input(\"Enter your name: \")\n",
    "print(\"Hello, \" + name + \"!\")"
   ]
  },
  {
   "cell_type": "code",
   "execution_count": 6,
   "id": "36ec0fdd",
   "metadata": {},
   "outputs": [
    {
     "name": "stdout",
     "output_type": "stream",
     "text": [
      "Enter integer number: 2\n",
      "The entered number is :  2\n"
     ]
    }
   ],
   "source": [
    "# Basic input example\n",
    "num = int(input(\"Enter integer number: \"))\n",
    "print(\"The entered number is : \",num)"
   ]
  },
  {
   "cell_type": "markdown",
   "id": "48e3dbc4",
   "metadata": {},
   "source": [
    "# Data Types "
   ]
  },
  {
   "cell_type": "markdown",
   "id": "14328a88",
   "metadata": {},
   "source": [
    "### Python supports several built-in data types, each serving a different purpose. Here is a list of common data types in Python along with examples:"
   ]
  },
  {
   "cell_type": "markdown",
   "id": "5f5d369f",
   "metadata": {},
   "source": [
    "## Number "
   ]
  },
  {
   "cell_type": "code",
   "execution_count": 9,
   "id": "0e5d25fe",
   "metadata": {},
   "outputs": [
    {
     "name": "stdout",
     "output_type": "stream",
     "text": [
      "Integer: 10 Float: 3.14 Complex: (2+3j)\n"
     ]
    }
   ],
   "source": [
    "# int: Integer data type.\n",
    "x = 10\n",
    "# float: Floating-point data type\n",
    "y = 3.14\n",
    "# complex: Complex number data type.\n",
    "z = 2 + 3j\n",
    "print(\"Integer:\",x,\"Float:\",y,\"Complex:\",z)"
   ]
  },
  {
   "cell_type": "markdown",
   "id": "6c0a8224",
   "metadata": {},
   "source": [
    "## String"
   ]
  },
  {
   "cell_type": "code",
   "execution_count": 10,
   "id": "16c81e6a",
   "metadata": {},
   "outputs": [
    {
     "name": "stdout",
     "output_type": "stream",
     "text": [
      "Hello, World!\n"
     ]
    }
   ],
   "source": [
    "text = \"Hello, World!\"\n",
    "print(text)"
   ]
  },
  {
   "cell_type": "markdown",
   "id": "929a134e",
   "metadata": {},
   "source": [
    "## List "
   ]
  },
  {
   "cell_type": "code",
   "execution_count": 11,
   "id": "ada1eac9",
   "metadata": {},
   "outputs": [
    {
     "name": "stdout",
     "output_type": "stream",
     "text": [
      "[1, 2, 3, 4]\n"
     ]
    }
   ],
   "source": [
    "my_list = [1, 2, 3, 4]\n",
    "print(my_list)"
   ]
  },
  {
   "cell_type": "markdown",
   "id": "fcc06b8b",
   "metadata": {},
   "source": [
    "## Tuple"
   ]
  },
  {
   "cell_type": "code",
   "execution_count": 12,
   "id": "e4c6a6ef",
   "metadata": {},
   "outputs": [
    {
     "name": "stdout",
     "output_type": "stream",
     "text": [
      "(1, 2, 3, 4)\n"
     ]
    }
   ],
   "source": [
    "my_tuple = (1, 2, 3, 4)\n",
    "print(my_tuple)"
   ]
  },
  {
   "cell_type": "markdown",
   "id": "8fd3e450",
   "metadata": {},
   "source": [
    "## Dictionary"
   ]
  },
  {
   "cell_type": "code",
   "execution_count": 13,
   "id": "b84ce762",
   "metadata": {},
   "outputs": [
    {
     "name": "stdout",
     "output_type": "stream",
     "text": [
      "{'name': 'John', 'age': 30, 'city': 'New York'}\n"
     ]
    }
   ],
   "source": [
    "my_dict = {'name': 'John', 'age': 30, 'city': 'New York'}\n",
    "print(my_dict)"
   ]
  },
  {
   "cell_type": "markdown",
   "id": "3dd60ba7",
   "metadata": {},
   "source": [
    "# Conditional Statements "
   ]
  },
  {
   "cell_type": "markdown",
   "id": "c2bdb6bc",
   "metadata": {},
   "source": [
    "## Conditional statements in Python allow you to control the flow of your program based on certain conditions. The primary conditional statements in Python are if, elif (short for \"else if\"), and else. Here's an overview of how they work:"
   ]
  },
  {
   "cell_type": "markdown",
   "id": "7af51f89",
   "metadata": {},
   "source": [
    "## If Statement "
   ]
  },
  {
   "cell_type": "code",
   "execution_count": 14,
   "id": "62f3c6a7",
   "metadata": {},
   "outputs": [
    {
     "name": "stdout",
     "output_type": "stream",
     "text": [
      "x is greater than 5\n"
     ]
    }
   ],
   "source": [
    "x = 10\n",
    "\n",
    "if x > 5:\n",
    "    print(\"x is greater than 5\")"
   ]
  },
  {
   "cell_type": "markdown",
   "id": "b4077407",
   "metadata": {},
   "source": [
    "## If-else Statement "
   ]
  },
  {
   "cell_type": "code",
   "execution_count": 15,
   "id": "e535a7e2",
   "metadata": {},
   "outputs": [
    {
     "name": "stdout",
     "output_type": "stream",
     "text": [
      "y is odd\n"
     ]
    }
   ],
   "source": [
    "y = 3\n",
    "\n",
    "if y % 2 == 0:\n",
    "    print(\"y is even\")\n",
    "else:\n",
    "    print(\"y is odd\")"
   ]
  },
  {
   "cell_type": "markdown",
   "id": "562f7f66",
   "metadata": {},
   "source": [
    "## If and elif Statements"
   ]
  },
  {
   "cell_type": "code",
   "execution_count": 16,
   "id": "e3348ea0",
   "metadata": {},
   "outputs": [
    {
     "name": "stdout",
     "output_type": "stream",
     "text": [
      "z is zero\n"
     ]
    }
   ],
   "source": [
    "z = 0\n",
    "\n",
    "if z > 0:\n",
    "    print(\"z is positive\")\n",
    "elif z == 0:\n",
    "    print(\"z is zero\")\n",
    "else:\n",
    "    print(\"z is negative\")\n"
   ]
  },
  {
   "cell_type": "markdown",
   "id": "02732447",
   "metadata": {},
   "source": [
    "# Sample Programs"
   ]
  },
  {
   "cell_type": "markdown",
   "id": "04edb128",
   "metadata": {},
   "source": [
    "### Write a Python program to check if a given number is even or odd"
   ]
  },
  {
   "cell_type": "code",
   "execution_count": 17,
   "id": "adab84ef",
   "metadata": {},
   "outputs": [
    {
     "name": "stdout",
     "output_type": "stream",
     "text": [
      "Enter a number: 2\n",
      "2 is even.\n"
     ]
    }
   ],
   "source": [
    "number = int(input(\"Enter a number: \")) \n",
    "if number % 2 == 0:\n",
    "    print(number, \"is even.\") \n",
    "else:\n",
    "    print(number, \"is odd.\")"
   ]
  },
  {
   "cell_type": "markdown",
   "id": "d43b9ee0",
   "metadata": {},
   "source": [
    "## Write a Python program to convert temperature in Celsius to Fahrenheit"
   ]
  },
  {
   "cell_type": "code",
   "execution_count": 18,
   "id": "2d64bd2b",
   "metadata": {},
   "outputs": [
    {
     "name": "stdout",
     "output_type": "stream",
     "text": [
      "Enter temperature in Celsius: 25\n",
      "Temperature in Fahrenheit: 77.0\n"
     ]
    }
   ],
   "source": [
    "celsius = float(input(\"Enter temperature in Celsius: \")) \n",
    "fahrenheit = (celsius * 9/5) + 32\n",
    "print(\"Temperature in Fahrenheit:\", fahrenheit)"
   ]
  },
  {
   "cell_type": "markdown",
   "id": "e9bca96b",
   "metadata": {},
   "source": [
    "## Write a Python program to find the area of a triangle given its base and height"
   ]
  },
  {
   "cell_type": "code",
   "execution_count": 19,
   "id": "6a6435b5",
   "metadata": {},
   "outputs": [
    {
     "name": "stdout",
     "output_type": "stream",
     "text": [
      "Enter the base of the triangle: 2\n",
      "Enter the height of the triangle: 3\n",
      "The area of the triangle is: 3.0\n"
     ]
    }
   ],
   "source": [
    "base = float(input(\"Enter the base of the triangle: \")) \n",
    "height = float(input(\"Enter the height of the triangle: \")) \n",
    "area = (base * height) / 2\n",
    "print(\"The area of the triangle is:\", area)"
   ]
  },
  {
   "cell_type": "markdown",
   "id": "f79e4c71",
   "metadata": {},
   "source": [
    "## Write a Python Program to find the simple interest."
   ]
  },
  {
   "cell_type": "code",
   "execution_count": 20,
   "id": "73f4ab35",
   "metadata": {},
   "outputs": [
    {
     "name": "stdout",
     "output_type": "stream",
     "text": [
      "Enter the principal amount: 100\n",
      "Enter the interest rate: 2\n",
      "Enter the time period (in years): 3\n",
      "The simple interest is: 6.0\n"
     ]
    }
   ],
   "source": [
    "# Input the principal amount, interest rate, and time period from the user \n",
    "principal = float(input(\"Enter the principal amount: \"))\n",
    "rate = float(input(\"Enter the interest rate: \"))\n",
    "time = float(input(\"Enter the time period (in years): \"))\n",
    "\n",
    "# Calculate the simple interest\n",
    "interest = (principal * rate * time) / 100\n",
    "\n",
    "# Print the result\n",
    "print(\"The simple interest is:\", interest)"
   ]
  },
  {
   "cell_type": "markdown",
   "id": "00de7557",
   "metadata": {},
   "source": [
    "# References : Youtube Videos"
   ]
  },
  {
   "cell_type": "markdown",
   "id": "8a3fe215",
   "metadata": {},
   "source": [
    "#### Datatypes: https://www.youtube.com/watch?v=gCCVsvgR2KU \n",
    "#### Operators: https://www.youtube.com/watch?v=v5MR5JnKcZI \n",
    "#### Flow Control: https://www.youtube.com/watch?v=PqFKRqpHrjw\n",
    "#### For loop: https://www.youtube.com/watch?v=0ZvaDa8eT5s\n",
    "#### While loop: https://www.youtube.com/watch?v=HZARImviDxg\n",
    "#### Exceptions: https://www.youtube.com/watch?v=6SPDvPK38tw\n",
    "#### Functions: https://www.youtube.com/watch?v=BVfCWuca9nw\n",
    "#### Arguments: https://www.youtube.com/watch?v=ijXMGpoMkhQ\n",
    "#### Return value: https://www.youtube.com/watch?v=nuNXiEDnM44\n",
    "#### Strings: https://www.youtube.com/watch?v=lSItwlnF0eU\n",
    "#### String functions: https://www.youtube.com/watch?v=9a3CxJyTq00\n",
    "#### Lists: https://www.youtube.com/watch?v=Eaz5e6M8tL4\n",
    "#### List methods: https://www.youtube.com/watch?v=8-RDVWGktuI\n",
    "#### Tuples: https://www.youtube.com/watch?v=bdS4dHIJGBc\n",
    "#### Tuple operations: https://www.youtube.com/watch?v=TItKabcTTQ4\n",
    "#### Dictionary: https://www.youtube.com/watch?v=4Q0pW8XBOkc\n",
    "#### Dictionary methods: https://www.youtube.com/watch?v=oLeNHuORpNY\n",
    "#### Files: https://www.youtube.com/watch?v=vuyb7CxZgbU\n",
    "#### https://www.youtube.com/watch?v=FqcjKewJTQ0\n",
    "#### File organization: https://www.youtube.com/watch?v=MRuq3SRXses\n",
    "#### Regular expressions: https://www.youtube.com/watch?v=LnzFnZfHLS4\n",
    "#### OOP’s concepts: https://www.youtube.com/watch?v=qiSCMNBIP2g\n",
    "#### Inheritance: https://www.youtube.com/watch?v=Cn7AkDb4pIU\n",
    "#### Web scraping: https://www.youtube.com/watch?v=ng2o98k983k\n",
    "#### Excel: https://www.youtube.com/watch?v=nsKNPHJ9iPc\n",
    "#### PDFs: https://www.youtube.com/watch?v=q70xzDG6nls\n",
    "#### https://www.youtube.com/watch?v=JhQVD7Y1bsA \n",
    "#### https://www.youtube.com/watch?v=FcrW-ESdY-A \n",
    "#### Word files: https://www.youtube.com/watch?v=ZU3cSl51jWE\n",
    "#### JSON files: https://www.youtube.com/watch?v=9N6a-VLBa2I \n",
    "#### Python (Full Course): https://www.youtube.com/watch?v=_uQrJ0TkZlc"
   ]
  },
  {
   "cell_type": "code",
   "execution_count": null,
   "id": "04f58ce3",
   "metadata": {},
   "outputs": [],
   "source": []
  }
 ],
 "metadata": {
  "kernelspec": {
   "display_name": "Python 3 (ipykernel)",
   "language": "python",
   "name": "python3"
  },
  "language_info": {
   "codemirror_mode": {
    "name": "ipython",
    "version": 3
   },
   "file_extension": ".py",
   "mimetype": "text/x-python",
   "name": "python",
   "nbconvert_exporter": "python",
   "pygments_lexer": "ipython3",
   "version": "3.11.5"
  }
 },
 "nbformat": 4,
 "nbformat_minor": 5
}
